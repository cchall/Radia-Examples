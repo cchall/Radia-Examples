{
 "cells": [
  {
   "cell_type": "markdown",
   "metadata": {},
   "source": [
    "# Radia Python Example 1: Uniformly Magnetized Cube\n",
    "\n",
    "This is the simplest example: a single magnetized cube\n",
    "centered at the origin, 1&#160;mm on a side, and magnetized\n",
    "according to the vector [-0.5, 1.0, 0.7]&#160;Tesla.\n",
    "We compute the three components of the _**B**_ field\n",
    "at position [0.52, 0.60, 0.70].\n",
    "\n",
    "You should obtain a result close to [0.12737, 0.028644, 0.077505].\n",
    "\n",
    "## _Import Radia and other packages_"
   ]
  },
  {
   "cell_type": "code",
   "execution_count": null,
   "metadata": {},
   "outputs": [],
   "source": [
    "import radia as rad\n",
    "import ipywidgets\n",
    "from jupyter_rs_radia import radia_viewer"
   ]
  },
  {
   "cell_type": "markdown",
   "metadata": {},
   "source": [
    "In this example, we use two _Radia_ functions: `ObjRecMag`\n",
    "and `Fld`. To obtain information about these, or any other,\n",
    "_Radia_ functions, use the `?` operator, as shown here:"
   ]
  },
  {
   "cell_type": "code",
   "execution_count": null,
   "metadata": {},
   "outputs": [],
   "source": [
    "rad.ObjRecMag?"
   ]
  },
  {
   "cell_type": "code",
   "execution_count": null,
   "metadata": {},
   "outputs": [],
   "source": [
    "rad.Fld?"
   ]
  },
  {
   "cell_type": "markdown",
   "metadata": {},
   "source": [
    "You may also consult the\n",
    "[Radia Reference Guide](\n",
    "  https://www.esrf.eu/Accelerators/Groups/InsertionDevices/Software/Radia/Documentation/ReferenceGuide/Index\n",
    "  \"RADIA Reference Guide at ESRF\").\n",
    "(Although that documentation was written for the _Radia_\n",
    "Mathematica interface, it translates quite directly to\n",
    "the Python interface used here.)\n",
    "\n",
    "## _Construct cube and evaluate the field_\n",
    "\n",
    "Now create a cube with a defined magnetization, side length\n",
    "1&#8239;mm, and centered at the origin. Then evaluate the\n",
    "field at a particular point."
   ]
  },
  {
   "cell_type": "code",
   "execution_count": null,
   "metadata": {},
   "outputs": [],
   "source": [
    "m = rad.ObjRecMag([0,0,0], [1,1,1], [-0.5, 1.0, 0.7])\n",
    "\n",
    "B = rad.Fld(m, 'b', [0.52, 0.60, 0.70])\n",
    "print(B)"
   ]
  },
  {
   "cell_type": "markdown",
   "metadata": {},
   "source": [
    "## _Display the geometry_\n",
    "\n",
    "To see a three-dimensional representation of this magnet,\n",
    "we put it into a _Radia_ container object and then use the\n",
    "`RadiaViewer`."
   ]
  },
  {
   "cell_type": "code",
   "execution_count": null,
   "metadata": {},
   "outputs": [],
   "source": [
    "# assign a color\n",
    "rad.ObjDrwAtr(m, [0.0, 1.0, 1.0])\n",
    "# place magnet into a container\n",
    "cube = rad.ObjCnt([m])\n",
    "\n",
    "# set up RadiaViewer and display the magnet\n",
    "rv = radia_viewer.RadiaViewer()\n",
    "rv.add_geometry('Magnetized Cube', cube)\n",
    "rv.display()"
   ]
  }
 ],
 "metadata": {
  "kernelspec": {
   "display_name": "Python 3",
   "language": "python",
   "name": "py3"
  },
  "language_info": {
   "codemirror_mode": {
    "name": "ipython",
    "version": 3
   },
   "file_extension": ".py",
   "mimetype": "text/x-python",
   "name": "python",
   "nbconvert_exporter": "python",
   "pygments_lexer": "ipython3",
   "version": "3.7.2"
  }
 },
 "nbformat": 4,
 "nbformat_minor": 4
}
