{
 "cells": [
  {
   "cell_type": "markdown",
   "metadata": {},
   "source": [
    "# RADIA Example 4: Uniformly Magnetized Sphere\n",
    "\n",
    "This example creates a polyhedral approximation to a uniformly\n",
    "magnetized sphere. Before working through this example, you should\n",
    "successfully complete (or at least understand) Example&#160;1.\n",
    "\n",
    "This example illustrates the creation of a polyhedral volume using\n",
    "the function `ObjMltExtPgn`. In particular, we create a magnetized\n",
    "polyhedron with magnetization $\\mu_oM=\\,$1&#160;Tesla. We then\n",
    "compute the magnetic field produced by this polyhedron and show it\n",
    "to be roughly uniform within the polyhedral volume. The field has\n",
    "magnitude 2/3&#8239;Tesla, as expected from an analytical calculation.\n",
    "\n",
    "to be roughly uniform within the polyhedral volume. The field, as\n",
    "expected from an analytical calculation, has magnitude\n",
    "2/3&#8239;Tesla [J.D.&#8239;Jackson, _Electrodynamics_, 3rd ed.,\n",
    "§&#8239;5.10].\n",
    "\n",
    "Feel free to experiment: Modify some of the parameters, re-execute\n",
    "the relevant cells, and examine how the results vary with the\n",
    "resolution. To learn more, consult the\n",
    "[Radia documentation](\n",
    "  https://www.esrf.eu/Accelerators/Groups/InsertionDevices/Software/Radia/Documentation\n",
    "  \"RADIA documentation at ESRF\").\n",
    "\n",
    "## _Import Radia and other packages_"
   ]
  },
  {
   "cell_type": "code",
   "execution_count": null,
   "metadata": {},
   "outputs": [],
   "source": [
    "%matplotlib inline\n",
    "import matplotlib.pyplot as plt\n",
    "import scipy.constants as sc\n",
    "import numpy as np\n",
    "import time as tm\n",
    "from math import *\n",
    "\n",
    "import radia as rad\n",
    "from uti_plot import *\n",
    "import ipywidgets\n",
    "from jupyter_rs_radia import radia_viewer"
   ]
  },
  {
   "cell_type": "markdown",
   "metadata": {},
   "source": [
    "## _Define the geometry_\n",
    "\n",
    "Here we define functions to create a polyhedral approximation to\n",
    "a uniformly magnetized sphere. The approximation uses multiple\n",
    "layers of extruded polygons—see the documentation for the _Radia_\n",
    "function `ObjMltExtPgn()`.\n",
    "\n",
    "In this first version, the layers all have equal thickness:"
   ]
  },
  {
   "cell_type": "code",
   "execution_count": null,
   "metadata": {},
   "outputs": [],
   "source": [
    "def magnetic_sphere_eqz(r, n_phi, n_z, M):\n",
    "    '''\n",
    "    Create a polyhedral approximation to a uniformly magnetized sphere.\n",
    "    arguments:\n",
    "      r     = radius of the sphere\n",
    "      n_phi = number of azimuthal intervals\n",
    "      n_z   = number of vertical intervals\n",
    "              (an even value yields vertices on the equator)\n",
    "      M     = magnetization\n",
    "    result: Radia representation of\n",
    "      a uniformly magnetized sphere\n",
    "    '''\n",
    "    dphi = 2. * pi / n_phi\n",
    "    dz   = 2. * r  / n_z\n",
    "    zs   = -r + dz * np.arange(1, n_z)   # uniformly-spaced z values\n",
    "    rs   = r * np.cos(np.arcsin(zs / r)) # radii at the given z values\n",
    "    # polygonal approximation to unit circle\n",
    "    circ = np.transpose([np.cos(dphi * np.arange(n_phi)), np.sin(dphi * np.arange(n_phi))])\n",
    "\n",
    "    # construct interior planes of vertices\n",
    "    slices = [[((r * cos(asin(z / r))) * circ).tolist(), z] for z in zs]\n",
    "    # and tack on the north and south poles\n",
    "    n_pole = [ [[ [0.,0.] ], +r] ]\n",
    "    s_pole = [ [[ [0.,0.] ], -r] ]\n",
    "    all_slices = s_pole + slices + n_pole\n",
    "\n",
    "    # create the “sphere”\n",
    "    sphere = rad.ObjMltExtPgn(all_slices, M)\n",
    "    # apply color\n",
    "    rad.ObjDrwAtr(sphere, [1.0, 0.5, 1.0])\n",
    "\n",
    "    return rad.ObjCnt([sphere])"
   ]
  },
  {
   "cell_type": "markdown",
   "metadata": {},
   "source": [
    "In this second version, the layers all subtend a common polar angle:"
   ]
  },
  {
   "cell_type": "code",
   "execution_count": null,
   "metadata": {},
   "outputs": [],
   "source": [
    "def magnetic_sphere_eqang(r, n_phi, n_th, M):\n",
    "    '''\n",
    "    Create a polyhedral approximation to a uniformly magnetized sphere.\n",
    "    arguments:\n",
    "      r     = radius of the sphere\n",
    "      n_phi = number of azimuthal intervals\n",
    "      n_th  = number of polar intervals\n",
    "              (an even value yields vertices on the equator)\n",
    "      M     = magnetization\n",
    "    result: Radia representation of\n",
    "      a uniformly magnetized sphere\n",
    "    '''\n",
    "    dphi = 2. * pi / n_phi\n",
    "    dth  = pi / n_th\n",
    "    # z values at uniformly-spaced polar angles\n",
    "    zs   = r * np.cos(dth * np.arange(1, n_th))\n",
    "    # polygonal approximation to unit circle\n",
    "    circ = np.transpose([np.cos(dphi * np.arange(n_phi)), np.sin(dphi * np.arange(n_phi))])\n",
    "\n",
    "    # construct interior planes of vertices\n",
    "    slices = [[((r * cos(asin(z / r))) * circ).tolist(), z] for z in zs]\n",
    "    # and tack on the north and south poles\n",
    "    n_pole = [ [[ [0.,0.] ], +r] ] \n",
    "    s_pole = [ [[ [0.,0.] ], -r] ] \n",
    "    all_slices = n_pole + slices + s_pole\n",
    "\n",
    "    # create the “sphere”\n",
    "    sphere = rad.ObjMltExtPgn(all_slices, M)\n",
    "    # apply color\n",
    "    rad.ObjDrwAtr(sphere, [1.0, 0.5, 1.0])\n",
    "\n",
    "    return rad.ObjCnt([sphere])"
   ]
  },
  {
   "cell_type": "markdown",
   "metadata": {},
   "source": [
    "## _Build and display the geometry_"
   ]
  },
  {
   "cell_type": "markdown",
   "metadata": {},
   "source": [
    "You may place _both_ geometries in the _Radia Viewer_.\n",
    "Use the _Geometry_ pop-up menu to select which one\n",
    "to display."
   ]
  },
  {
   "cell_type": "code",
   "execution_count": null,
   "metadata": {},
   "outputs": [],
   "source": [
    "# create the magnet, apply color, and place in a Radia container\n",
    "mag_sphere_z = magnetic_sphere_eqz(  1, 15, 16, [1,0,0])\n",
    "mag_sphere_a = magnetic_sphere_eqang(1, 15, 16, [1,0,0])\n",
    "\n",
    "# set up the radia viewer and display the magnet\n",
    "rv = radia_viewer.RadiaViewer()\n",
    "rv.add_geometry('Magnetized Sphere — eq. Z', mag_sphere_z)\n",
    "rv.add_geometry('Magnetized Sphere — eq. θ', mag_sphere_a)\n",
    "rv.display()"
   ]
  },
  {
   "cell_type": "markdown",
   "metadata": {},
   "source": [
    "## _Magnetic field values_\n",
    "\n",
    "Evaluate the magnetic field at the center of the sphere,\n",
    "and confirm that it is roughly 2/3 the assigned magnetization."
   ]
  },
  {
   "cell_type": "code",
   "execution_count": null,
   "metadata": {},
   "outputs": [],
   "source": [
    "print('Field at center (eq.Z) = ', rad.Fld(mag_sphere_z, 'b', [0,0,0]))\n",
    "print('Field at center (eq.θ) = ', rad.Fld(mag_sphere_a, 'b', [0,0,0]))"
   ]
  },
  {
   "cell_type": "markdown",
   "metadata": {},
   "source": [
    "Next, we compare the horizontal magnetization $\\mu_0 M_x$ and\n",
    "field $B_x$ as functions of the transverse coördinate $y$.\n",
    "In particular, we confirm that, as expected, the magnetic\n",
    "field inside the sphere is essentially uniform at 2/3 the\n",
    "assigned magnetization. And outside the sphere, the magnetization\n",
    "vanishes, while the magnetic field decays as $1/r^3$, as\n",
    "expected for a magnetic dipole."
   ]
  },
  {
   "cell_type": "code",
   "execution_count": null,
   "metadata": {},
   "outputs": [],
   "source": [
    "ys = np.linspace(-1.99, 3.99, 301)\n",
    "Mx_v_Y = rad.Fld(mag_sphere_a, 'mx', [[0, y, 0] for y in ys])\n",
    "Bx_v_Y = rad.Fld(mag_sphere_a, 'bx', [[0, y, 0] for y in ys])\n",
    "\n",
    "plt.figure(figsize=(7,4.3))\n",
    "# plt.plot(ys, Mx_v_Y, 'orange', label = r'$M_x$')\n",
    "# plt.plot(ys, Bx_v_Y, label = r'$B_x$')\n",
    "plt.plot(ys, Mx_v_Y, label = r'$M_x$')\n",
    "plt.plot(ys, Bx_v_Y, label = r'$B_x$')\n",
    "yy = np.linspace(0.90, 3.99, 21)\n",
    "b0 = rad.Fld(mag_sphere_a, 'bx', [0, 1.001, 0])\n",
    "plt.plot(yy, b0 / yy**3, '--', label = r'$B_o/y^3$')\n",
    "plt.title(r'horizontal field $B_x$ or $M_x$')\n",
    "plt.xlabel(r'$y$ / mm')\n",
    "plt.ylabel(r'$B_x$ or $M_x$ / T')\n",
    "plt.grid()\n",
    "plt.legend()\n",
    "plt.show()"
   ]
  },
  {
   "cell_type": "markdown",
   "metadata": {},
   "source": [
    "If you look more somewhat more closely at the edge of the\n",
    "sphere, you will notice that the field drops off well\n",
    "_before_ the radius, at $y=$&#160;1&#8239;mm:"
   ]
  },
  {
   "cell_type": "code",
   "execution_count": null,
   "metadata": {},
   "outputs": [],
   "source": [
    "ys = np.linspace(0.800, 0.995, 101)\n",
    "Mx_v_Y = rad.Fld(mag_sphere_a, 'mx', [[0, y, 0] for y in ys])\n",
    "Bx_v_Y = rad.Fld(mag_sphere_a, 'bx', [[0, y, 0] for y in ys])\n",
    "\n",
    "plt.figure(figsize=(7,4.3))\n",
    "plt.plot(ys, Mx_v_Y, label = r'$M_x$')\n",
    "plt.plot(ys, Bx_v_Y, label = r'$B_x$')\n",
    "plt.title(r'horizontal field $B_x$ or $M_x$')\n",
    "plt.xlabel(r'$y$ / mm')\n",
    "plt.ylabel(r'$B_x$ or $M_x$/ T')\n",
    "plt.grid()\n",
    "# plt.xlim(0.75,1.05)\n",
    "plt.legend()\n",
    "plt.show()"
   ]
  },
  {
   "cell_type": "markdown",
   "metadata": {},
   "source": [
    "This is a consequence of the finite resolution in our\n",
    "representation of the sphere. You can easily test this\n",
    "by making similar plots at different resolutions:"
   ]
  },
  {
   "cell_type": "code",
   "execution_count": null,
   "metadata": {},
   "outputs": [],
   "source": [
    "mag_sphere_a1 = magnetic_sphere_eqang(1, 36, 36, [1,0,0])\n",
    "mag_sphere_a2 = magnetic_sphere_eqang(1, 72, 72, [1,0,0])\n",
    "\n",
    "ys = np.linspace(0.800, 0.999, 201)\n",
    "Bx_v_Y0 = rad.Fld(mag_sphere_a,  'bx', [[0, y, 0] for y in ys])\n",
    "Bx_v_Y1 = rad.Fld(mag_sphere_a1, 'bx', [[0, y, 0] for y in ys])\n",
    "Bx_v_Y2 = rad.Fld(mag_sphere_a2, 'bx', [[0, y, 0] for y in ys])\n",
    "\n",
    "plt.figure(figsize=(7,4.3))\n",
    "plt.plot(ys, Bx_v_Y0, label = r'$B_x$')\n",
    "plt.plot(ys, Bx_v_Y1, label = r'$B_x$ ($10^\\circ$)')\n",
    "plt.plot(ys, Bx_v_Y2, label = r'$B_x$ ($5^\\circ$)')\n",
    "plt.title(r'horizontal magnetic field $B_x$')\n",
    "plt.xlabel(r'$y$ / mm')\n",
    "plt.ylabel(r'$B_x$ / T')\n",
    "plt.grid()\n",
    "# plt.xlim(0.75,1.05)\n",
    "plt.legend()\n",
    "plt.show()"
   ]
  },
  {
   "cell_type": "code",
   "execution_count": null,
   "metadata": {},
   "outputs": [],
   "source": [
    "xs = np.linspace(0.800, 0.999, 201)\n",
    "Bx_v_X0 = rad.Fld(mag_sphere_a,  'bx', [[x, 0, 0] for x in xs])\n",
    "Bx_v_X1 = rad.Fld(mag_sphere_a1, 'bx', [[x, 0, 0] for x in xs])\n",
    "Bx_v_X2 = rad.Fld(mag_sphere_a2, 'bx', [[x, 0, 0] for x in xs])\n",
    "\n",
    "plt.figure(figsize=(7,4.3))\n",
    "plt.plot(xs, Bx_v_X0, label = r'$B_x$')\n",
    "plt.plot(xs, Bx_v_X1, label = r'$B_x$ ($10^\\circ$)')\n",
    "plt.plot(xs, Bx_v_X2, label = r'$B_x$ ($5^\\circ$)')\n",
    "plt.title(r'horizontal magnetic field $B_x$')\n",
    "plt.xlabel(r'$x$ / mm')\n",
    "plt.ylabel(r'$B_x$ / T')\n",
    "plt.grid()\n",
    "# plt.xlim(0.75,1.05)\n",
    "plt.legend()\n",
    "plt.show()"
   ]
  },
  {
   "cell_type": "markdown",
   "metadata": {},
   "source": [
    "In addition, you might look at the field along the $x$-axis,\n",
    "parallel to the magnetization vector."
   ]
  },
  {
   "cell_type": "code",
   "execution_count": null,
   "metadata": {},
   "outputs": [],
   "source": [
    "xs = np.linspace(0.500, 1.500, 100)\n",
    "Bx_v_X0 = rad.Fld(mag_sphere_a,  'bx', [[x, 0, 0] for x in xs])\n",
    "Bx_v_X1 = rad.Fld(mag_sphere_a1, 'bx', [[x, 0, 0] for x in xs])\n",
    "Bx_v_X2 = rad.Fld(mag_sphere_a2, 'bx', [[x, 0, 0] for x in xs])\n",
    "\n",
    "plt.figure(figsize=(7,4.3))\n",
    "plt.plot(xs, Bx_v_X0, label = r'$B_x$ ($24^\\circ$)')\n",
    "plt.plot(xs, Bx_v_X1, label = r'$B_x$ ($10^\\circ$)')\n",
    "plt.plot(xs, Bx_v_X2, label = r'$B_x$ ($5^\\circ$)')\n",
    "xx = np.linspace(0.90, 1.50, 31)\n",
    "b0 = rad.Fld(mag_sphere_a2, 'bx', [1.001, 0, 0])\n",
    "plt.plot(xx, (2/3) / xx**3, '--', label = r'$B_o/r^3$')\n",
    "plt.title(r'horizontal magnetic field $B_x$')\n",
    "plt.xlabel(r'$x$ / mm')\n",
    "plt.ylabel(r'$B_x$ / T')\n",
    "plt.grid()\n",
    "# plt.xlim(0.75,1.05)\n",
    "plt.legend()\n",
    "plt.show()"
   ]
  },
  {
   "cell_type": "code",
   "execution_count": null,
   "metadata": {},
   "outputs": [],
   "source": [
    "r2d = 180 / pi\n",
    "ro = 1.150\n",
    "phi = np.linspace(0, 2*pi, 360)\n",
    "Bx_v_Ph0 = rad.Fld(mag_sphere_a,  'bx', [[ro * cos(f), ro * sin(f), 0] for f in phi])\n",
    "Bx_v_Ph1 = rad.Fld(mag_sphere_a1, 'bx', [[ro * cos(f), ro * sin(f), 0] for f in phi])\n",
    "Bx_v_Ph2 = rad.Fld(mag_sphere_a2, 'bx', [[ro * cos(f), ro * sin(f), 0] for f in phi])\n",
    "\n",
    "plt.figure(figsize=(7,4.3))\n",
    "plt.plot(phi * r2d, Bx_v_Ph0, label = r'$B_x$ ($24^\\circ$)')\n",
    "plt.plot(phi * r2d, Bx_v_Ph1, label = r'$B_x$ ($10^\\circ$)')\n",
    "plt.plot(phi * r2d, Bx_v_Ph2, label = r'$B_x$ ($5^\\circ$)')\n",
    "# xx = np.linspace(0.90, 1.50, 31)\n",
    "# b0 = rad.Fld(mag_sphere_a2, 'bx', [1.001, 0, 0])\n",
    "# plt.plot(xx, (2/3) / xx**3, '--', label = r'$B_o/r^3$')\n",
    "plt.title(r'horizontal magnetic field $B_x$')\n",
    "plt.xlabel(r'$\\phi$ / deg')\n",
    "plt.ylabel(r'$B_x$ / T')\n",
    "plt.grid()\n",
    "# plt.xlim(0.75,1.05)\n",
    "plt.legend()\n",
    "plt.show()"
   ]
  }
 ],
 "metadata": {
  "kernelspec": {
   "display_name": "Python 3",
   "language": "python",
   "name": "py3"
  },
  "language_info": {
   "codemirror_mode": {
    "name": "ipython",
    "version": 3
   },
   "file_extension": ".py",
   "mimetype": "text/x-python",
   "name": "python",
   "nbconvert_exporter": "python",
   "pygments_lexer": "ipython3",
   "version": "3.7.2"
  }
 },
 "nbformat": 4,
 "nbformat_minor": 4
}
