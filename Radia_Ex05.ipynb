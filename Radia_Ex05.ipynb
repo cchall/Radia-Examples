{
 "cells": [
  {
   "cell_type": "markdown",
   "metadata": {},
   "source": [
    "# RADIA Example 5: Iron-Dominated Electromagnet\n",
    "\n",
    "This example illustrates the use of Radia for simulating an iron-dominated\n",
    "dipole electromagnet.\n",
    "\n",
    "The magnetic field at any point in space results from two contributions:\n",
    "one from real sources of magnetic field, such as coils or permanent magnets;\n",
    "and a second from the magnetization of any iron present.\n",
    "Although the iron’s magnetization is induced by the coils or permanent magnets,\n",
    "its field contribution can be much larger than that of the direct contribution\n",
    "from coils and permanent magnets.\n",
    "We call such geometries _iron dominated_.\n",
    "The dipole and quadrupole electromagnets typically used in particle accelerators\n",
    "fall into this category, whereas most undulators and wigglers used as sources of\n",
    "synchrotron radiation do not.\n",
    "\n",
    "Field computations in the case of iron-dominated geometries present specific\n",
    "difficulties that usually make them less accurate than those in the case of\n",
    "structures dominated by coils or permanent magnets. Nevertheless, Radia\n",
    "includes special methods that enable one to obtain reasonable precision\n",
    "with a reasonable amount of computational effort—cpu time and memory usage.\n",
    "\n",
    "The example presented here is that of a simple dipole steerer:\n",
    "A closed circuit of iron with a small gap has a coil wound around the circuit;\n",
    "and that coil drives flux in the iron (see the graphics below).\n",
    "This example is more sensitive than all the previous examples, and we advise\n",
    "the beginner to gain experience with those earlier examples before diving into\n",
    "this one. \n",
    "\n",
    "The following recommendations will help you achieve an acceptable level\n",
    "of precision within a reasonable time:\n",
    "\n",
    "* Segment the corners of iron circuits as parallel or as perpendicular\n",
    "as possible to lines of magnetic flux. For right-angled corners, one can\n",
    "do this using the circular or ellipsoidal mode of segmentation (see below). \n",
    "Following this recommendation will have a significant impact on your\n",
    "simulations of iron-dominated electromagnets.\n",
    "\n",
    "    In the example shown here, we provide (for the sake of comparison)\n",
    "the option to use circular (the default) or square segmentation\n",
    "for the corners. See the function `create_dipole(..)` in the section\n",
    "below entitled **_Define a general function to build a dipole steering magnet_**,\n",
    "and look for the lines containing\n",
    "\n",
    "```\n",
    "rad.ObjDivMag(g3, [ncr, nca, n3[1]], 'cyl', typ)\n",
    "```\n",
    "\n",
    "    and\n",
    "    \n",
    "```\n",
    "rad.ObjDivMag(g5, [ncr, nca, n5[0]], 'cyl', typ)\n",
    "```\n",
    "\n",
    "* Use a finer segmentation for the iron regions (particularly the pole\n",
    "pieces) closest to the region of interest. \n",
    "\n",
    "* Start with a coarse segmentation and gradually make it finer until\n",
    "the computed field values are stable.\n",
    "Be aware that both memory usage and cpu time tend to increase as the\n",
    "square number of elements (segments) in the iron.\n",
    "\n",
    "* To the greatest extent possible, take advantage of any symmetries\n",
    "present in your system. Doing so saves both memory usage and CPU time.\n",
    "The steering dipole shown in this example has two planes of symmetry,\n",
    "which allow one to reduce the overall problem size by a factor of\n",
    "2$\\,\\times\\,$2. As a consequence, taking advantage of the symmetries\n",
    "in this example means one can cut by a factor of 16 both the memory\n",
    "usage and the cpu time required to reach a solution.\n",
    "\n",
    "As in the previous examples, experiment with modifying various\n",
    "parameters and explore how such changes affect the time to solution\n",
    "and the solution itself.\n",
    "Keep in mind that memory usage and cpu time are roughly proportional\n",
    "to the square of the number of sub-elements. This means that increasing\n",
    "the segmentation by a factor of 2 in all three dimensions results in an\n",
    "8-fold increase in the number of sub-elements, and a 64-fold increase\n",
    "in both memory usage and cpu time. As a consequence, it pays to refine\n",
    "the segmentation in some “intelligent” manner. Doing so requires some\n",
    "experience, but the general rule is to concentrate refinements to\n",
    "where it matters most: generally where the field is changing most\n",
    "rapidly—in magnitude or direction—and (especially) closest to regions\n",
    "of interest.\n",
    "\n",
    "In particular, you might keep track of the precision as you increase\n",
    "the segmentation along one direction and in one object at a time.\n",
    "Following this procedure, you can quickly identify those objects\n",
    "and directions for which refinment yields the most significant\n",
    "improvements to precision.\n",
    "\n",
    "For an explanation of all Radia functions, see the\n",
    "[Radia Reference Guide](\n",
    "  https://www.esrf.eu/Accelerators/Groups/InsertionDevices/Software/Radia/Documentation/ReferenceGuide/Index\n",
    "  \"RADIA Reference Guide at ESRF\")."
   ]
  },
  {
   "cell_type": "markdown",
   "metadata": {},
   "source": [
    "## _Import Radia and other packages_"
   ]
  },
  {
   "cell_type": "code",
   "execution_count": 1,
   "metadata": {},
   "outputs": [],
   "source": [
    "from __future__ import absolute_import, division, print_function\n",
    "import matplotlib.pyplot as plt\n",
    "import scipy.constants as sc\n",
    "import numpy as np\n",
    "import time as tm\n",
    "\n",
    "%matplotlib inline\n",
    "import ipywidgets\n",
    "#import radia as rad\n",
    "import radia\n",
    "from jupyter_rs_radia import radia_viewer"
   ]
  },
  {
   "cell_type": "markdown",
   "metadata": {},
   "source": [
    "The following figure illustrates the simple dipole steering magnet\n",
    "simulated in this example."
   ]
  },
  {
   "cell_type": "code",
   "execution_count": 2,
   "metadata": {},
   "outputs": [
    {
     "data": {
      "image/png": "[encoded data removed]",
      "text/plain": [
       "<IPython.core.display.Image object>"
      ]
     },
     "execution_count": 2,
     "metadata": {},
     "output_type": "execute_result"
    }
   ],
   "source": [
    "# import an illustration of this magnet\n",
    "from IPython.display import Image\n",
    "Image(filename=('./SimpleDipole.png'))"
   ]
  },
  {
   "cell_type": "markdown",
   "metadata": {},
   "source": [
    "## _Define a general function to build a dipole steering magnet_\n",
    "\n",
    "Here we define a function that creates the dipole steering magnet\n",
    "of this example. The various arguments (detailed in the function’s\n",
    "docstring) specify the geometry, material properties, current, and \n",
    "segmentation of this model magnet."
   ]
  },
  {
   "cell_type": "code",
   "execution_count": 20,
   "metadata": {},
   "outputs": [],
   "source": [
    "def create_dipole(gap, thick, width, chamfer, lpp, lap, lha, car, iron,\n",
    "                  rmin, rmax, current,\n",
    "                  n1, n2, n3, n4, n5, n6, ncr, nca, nsc,\n",
    "                  circ = True):\n",
    "    \"\"\"\n",
    "    create a simple dipole electromagnet\n",
    "    arguments:\n",
    "        gap     = distance between iron pole tips / mm\n",
    "        thick   = thickness of iron pole tip (along particle trajectory) / mm\n",
    "        width   = width of iron pole tip (transverse to particle trajectory) / mm\n",
    "        chamfer = size of chamfer on iron pole tip / mm\n",
    "        lpp     = length of pole piece / mm\n",
    "        lap     = length of segment above the pole piece / mm\n",
    "        lha     = length of horizontal arm (between the corners) / mm\n",
    "        car     = corner aspect ratio\n",
    "        iron    = material specification of the iron\n",
    "        rmin    = minimum coil radius / mm\n",
    "        rmax    = maximum coil radius / mm\n",
    "        current = coil current / A\n",
    "        n1      = segmentation parameters for pole tip\n",
    "        n2      = segmentation parameters for vertical segment above pole tip\n",
    "        n3      = segmentation parameters for corner above pole tip\n",
    "        n4      = segmentation parameters for horizontal segment between corners\n",
    "        n5      = segmentation parameters for other corner\n",
    "        n6      = segmentation parameters for vertical segment inside coil\n",
    "        ncr     = number of radial segments in the iron corners\n",
    "        nca     = number of azimuthal segments in the iron corners\n",
    "        nsc     = number segments in coil corners\n",
    "        circ    = whether to use cicular segmentation at iron corners (boolean)\n",
    "    return Radia representation of a simple dipole steering magnet\n",
    "    \"\"\"\n",
    "    # global quantities\n",
    "    global g1, g2, g3, g4, g5, g6\n",
    "    global yoke, coil\n",
    "\n",
    "    # debug parameter\n",
    "    eps = 0\n",
    "\n",
    "    # colors\n",
    "    iron_color = [0.0, 0.5, 1.0]\n",
    "    coil_color = [1.0, 0.0, 0.0]\n",
    "\n",
    "    # yoke geometry\n",
    "\n",
    "    # -- pole piece\n",
    "    lx1 = thick / 2\n",
    "    ly1 = width\n",
    "    lz1 = lpp  # height of pole piece above pole tip / mm\n",
    "    l1  = [lx1, ly1, lz1]\n",
    "    k1  = [[thick / 4. - chamfer / 2., 0, gap / 2.],\n",
    "           [thick / 2. - chamfer, ly1 - 2. * chamfer]]\n",
    "    k2  = [[thick / 4., 0., gap / 2. + chamfer], [thick / 2., ly1]]\n",
    "    k3  = [[thick / 4., 0., gap / 2. + lz1],     [thick / 2., ly1]]\n",
    "    g1  = radia.ObjMltExtRtg([k1, k2, k3])\n",
    "    radia.ObjDivMag(g1, n1)\n",
    "\n",
    "    # -- vertical segment above pole piece\n",
    "    lx2 = thick / 2\n",
    "    ly2 = ly1\n",
    "    lz2 = lap\n",
    "    l2  = [lx2, ly2, lz2]\n",
    "    p2  = [thick / 4, 0, gap / 2 + lz1 + lz2 / 2 + eps]\n",
    "    g2  = radia.ObjRecMag(p2, l2)\n",
    "    radia.ObjDivMag(g2, n2)\n",
    "\n",
    "    # -- corner above pole piece\n",
    "    lx3 = thick / 2\n",
    "    ly3 = ly2\n",
    "    lz3 = car * ly2\n",
    "    l3  = [lx3, ly3, lz3]\n",
    "    p3  = [thick / 4, 0, gap / 2 + lz1 + lz2 + lz3 / 2 + 2 * eps]\n",
    "    g3  = radia.ObjRecMag(p3, l3)\n",
    "    #    parameters for circular segmentation\n",
    "    typ = [[p3[0], p3[1] + ly3 / 2, p3[2] - lz3 / 2], [1, 0, 0],\n",
    "           [p3[0], p3[1] - ly3 / 2, p3[2] - lz3 / 2], lz3 / ly3]\n",
    "    #   circular or rectangular segmentation\n",
    "    if circ:\n",
    "        radia.ObjDivMag(g3, [ncr, nca, n3[0]], 'cyl', typ)\n",
    "    else:\n",
    "        radia.ObjDivMag(g3, n3)\n",
    "\n",
    "    # -- horizontal segment between corners\n",
    "    lx4 = thick / 2\n",
    "    ly4 = lha\n",
    "    lz4 = lz3\n",
    "    l4  = [lx4, ly4, lz4]\n",
    "    p4  = [thick / 4, ly3 / 2 + ly4 / 2 + eps, p3[2]]\n",
    "    g4  = radia.ObjRecMag(p4, l4)\n",
    "    radia.ObjDivMag(g4, n4)\n",
    "\n",
    "    # -- other corner (above coil)\n",
    "    lx5 = thick / 2\n",
    "    ly5 = car * lz4\n",
    "    lz5 = lz4\n",
    "    l5  = [lx5, ly5, lz5]\n",
    "    p5  = [thick / 4, p4[1] + (ly4 + ly5) / 2 + eps, p4[2]]\n",
    "    g5  = radia.ObjRecMag(p5, l5)\n",
    "    #    parameters for circular segmentation\n",
    "    typ = [[p5[0], p5[1] - ly5 / 2, p5[2] - lz5 / 2], [1, 0, 0],\n",
    "           [p5[0], p5[1] + ly5 / 2, p5[2] - lz5 / 2], lz5 / ly5]\n",
    "    #    circular or square segmentation\n",
    "    if circ:\n",
    "        radia.ObjDivMag(g5, [ncr, nca, n5[0]], 'cyl', typ)\n",
    "    else:\n",
    "        radia.ObjDivMag(g5, n5)\n",
    "\n",
    "    # -- vertical segment inside coil\n",
    "    lx6 = thick/2\n",
    "    ly6 = ly5\n",
    "    lz6 = gap/2 + lz1 + lz2\n",
    "    l6  = [lx6, ly6, lz6]\n",
    "    p6  = [thick/4, p5[1], p5[2] - (lz6 + lz5)/2 - eps]\n",
    "    g6  = radia.ObjRecMag(p6, l6)\n",
    "    radia.ObjDivMag(g6, n6)\n",
    "\n",
    "    # group iron pieces into a single yoke, set material properties, ...\n",
    "    yoke = radia.ObjCnt([g1, g2, g3, g4, g5, g6])\n",
    "    radia.MatApl(yoke, iron)\n",
    "    # and set color\n",
    "    radia.ObjDrwAtr(yoke, iron_color)\n",
    "\n",
    "    # add geometry with a name for viewing\n",
    "    # rv.add_geometry('pole piece',                   g1)\n",
    "    # rv.add_geometry('short vertical segment',       g2)\n",
    "    # rv.add_geometry('corner 1',                     g3)\n",
    "    # rv.add_geometry('horizontal segment',           g4)\n",
    "    # rv.add_geometry('corner 2',                     g5)\n",
    "    # rv.add_geometry('vertical segment inside coil', g6)\n",
    "    # rv.add_geometry('iron yoke',                  yoke)\n",
    "\n",
    "    # apply symmetry conditions\n",
    "    radia.TrfZerPerp(yoke, [0, 0, 0], [1, 0, 0])  # across y-z plane, with B parallel to plane\n",
    "    radia.TrfZerPara(yoke, [0, 0, 0], [0, 0, 1])  # across x-y plane, with B perpendicular to plane\n",
    "\n",
    "    # coil geometry, current, ...\n",
    "    hc = 2 * lz6 - rmin\n",
    "    curr_dens = current / (hc * (rmax - rmin))\n",
    "    pc = [0, p6[1], 0]\n",
    "    coil = radia.ObjRaceTrk(pc, [rmin, rmax], [thick, ly6], hc, nsc, curr_dens)\n",
    "    # and color\n",
    "    radia.ObjDrwAtr(coil, coil_color)\n",
    "    # rv.add_geometry('coil', coil)\n",
    "\n",
    "    # group yoke and coil together, and return\n",
    "    return radia.ObjCnt([yoke, coil])\n",
    "\n",
    "    # end create_dipole(..)"
   ]
  },
  {
   "cell_type": "markdown",
   "metadata": {},
   "source": [
    "## _Create the dipole and solve for the fields_\n",
    "\n",
    "First set the various parameters that specify the properties—geometry,\n",
    "materials, and current—of our dipole. Then also decide how finely to\n",
    "segment the iron."
   ]
  },
  {
   "cell_type": "code",
   "execution_count": 4,
   "metadata": {},
   "outputs": [],
   "source": [
    "# dipole parameters\n",
    "# -- yoke geometry (all lengths in mm)\n",
    "gap     = 10  # between pole tips\n",
    "thick   = 50  # thickness of iron pole piece (along trajectory)\n",
    "width   = 40  # width of iron pole piece (transverse to trajectory)\n",
    "chamfer =  8  # size of chamfer on iron pole piece\n",
    "lpp     = 20  # length of pole piece (includes chamfer)\n",
    "lap     = 30  # length of arm above pole piece\n",
    "lharm   = 80  # length of horizontal arm between the corners\n",
    "cratio  = 1.25  # corner aspect ratio (H:W in corner 1; W:H in corner 2)\n",
    "# -- yoke material\n",
    "ironmat = radia.MatSatIsoFrm([20000, 2], [0.1, 2], [0.1, 2])\n",
    "# -- coil geometry\n",
    "rmin =  5\n",
    "rmax = 40\n",
    "# -- coil current\n",
    "current = -2000  # A\n",
    "\n",
    "# segmentation parameters\n",
    "# -- yoke sections\n",
    "nx = 2\n",
    "n1 = [nx, 3, 2] # pole face\n",
    "n2 = [nx, 2, 2] # small vertical arm\n",
    "n3 = [nx, 2, 2] # corner above pole\n",
    "n4 = [nx, 2, 2] # horizontal arm\n",
    "n5 = [nx, 2, 2] # other corner (above coil)\n",
    "n6 = [nx, 2, 2] # long vertical arm (inside the coil)\n",
    "# -- for circular segmentation: yoke corners and coil arcs\n",
    "ncr = 2 # number of radial segments in yoke corners\n",
    "nca = 2 # number of azimuthal segments in yoke corners\n",
    "nsc = 3 # number of segments in coil arcs"
   ]
  },
  {
   "cell_type": "markdown",
   "metadata": {},
   "source": [
    "Now simulate this dipole steering magnet:"
   ]
  },
  {
   "cell_type": "code",
   "execution_count": 21,
   "metadata": {},
   "outputs": [
    {
     "data": {
      "application/vnd.jupyter.widget-view+json": {
       "model_id": "cefbcef2a26846458727f6e8d8cf7ec3",
       "version_major": 2,
       "version_minor": 0
      },
      "text/plain": [
       "RadiaViewer(children=(Viewer(children=(VTK(layout=Layout(margin='auto', min_width='25%', width='50%'), model_d…"
      ]
     },
     "metadata": {},
     "output_type": "display_data"
    }
   ],
   "source": [
    "# build the dipole\n",
    "dipole = create_dipole(gap, thick, width, chamfer, lpp, lap, lharm, cratio, ironmat,\n",
    "                       rmin, rmax, current,\n",
    "                       n1, n2, n3, n4, n5, n6, ncr, nca, nsc,\n",
    "                       circ = True)\n",
    "\n",
    "# define and show the radia viewer\n",
    "rv = radia_viewer.RadiaViewer()\n",
    "rv.add_geometry('Simple Dipole Steerer', dipole)\n",
    "rv.display()"
   ]
  },
  {
   "cell_type": "markdown",
   "metadata": {},
   "source": [
    "Need some means of reading ... the output of radia.Solve().\n",
    "The $B_z$ field at the origin, $(0, 0, 0)$, is the vertical field in the middle of the gap."
   ]
  },
  {
   "cell_type": "code",
   "execution_count": 6,
   "metadata": {},
   "outputs": [
    {
     "name": "stdout",
     "output_type": "stream",
     "text": [
      "built in   0.0030837059020996094  seconds\n",
      "solved in  0.11108183860778809  seconds\n",
      "interaction matrix:  216  x  216  .equiv.  0.186624  MBytes\n",
      "Mag_max  =  0.9307456707226021  T\n",
      "H_max    =  5.0414124933694746e-05  T\n",
      "num_iter =  665\n",
      "Bz(origin) =  0.25802211731275304  T\n",
      "Bz computed / Bz Ampère law  =  1.0266373849340389\n"
     ]
    }
   ],
   "source": [
    "t0 = tm.time()\n",
    "dipole = create_dipole(gap, thick, width, chamfer, lpp, lap, lharm, cratio, ironmat,\n",
    "                       rmin, rmax, current,\n",
    "                       n1, n2, n3, n4, n5, n6, ncr, nca, nsc,\n",
    "                       circ = True)\n",
    "t1 = tm.time()\n",
    "res = radia.Solve(dipole, 0.0001, 1500)\n",
    "t2  = tm.time()\n",
    "\n",
    "print(\"built in  \", t1 - t0, \" seconds\")\n",
    "print(\"solved in \", t2 - t1, \" seconds\")\n",
    "\n",
    "size    = radia.ObjDegFre(dipole)\n",
    "b0      = radia.Fld(dipole, 'Bz', [0, 0, 0])\n",
    "bampere = (- 4 * np.pi * current / gap) / 10000\n",
    "\n",
    "print(\"interaction matrix: \", size, \" x \", size, \" .equiv. \", (4 * size * size / 1000000), \" MBytes\")\n",
    "print(\"Mag_max  = \",  res[1], \" T\")\n",
    "print(\"H_max    = \",  res[2], \" T\")\n",
    "print(\"num_iter = \",  int(res[3]))\n",
    "print(\"Bz(origin) = \", b0, \" T\")\n",
    "print(\"Bz computed / Bz Ampère law  = \", b0 / bampere)"
   ]
  },
  {
   "cell_type": "markdown",
   "metadata": {},
   "source": [
    "### _possible explorations_\n",
    "\n",
    "In this example computation, we have used a coarse subdivision of the\n",
    "iron in order to realize a short CPU time. Of course this comes at\n",
    "the cost of reduced precision. The excitation current of –2000&#8239;A\n",
    "is relatively low, and the iron used in this example has a very large\n",
    "permeability. As a consequence, the iron does not saturate and Ampère’s\n",
    "law yields a good estimate of the on-axis field. Discrepancies between\n",
    "the computed and Ampère law estimate derive from the coarse segmentation\n",
    "and the small residual deviations from field uniformity in the gap. For\n",
    "better agreement, you might modify the segmentation parameters to read\n",
    "```\n",
    "nx = 3\n",
    "n1 = [nx, 3, 2]\n",
    "n2 = [nx, 3, 3]\n",
    "n4 = [nx, 3, 3]\n",
    "n6 = [nx, 3, 3]\n",
    "ncr = 3\n",
    "nca = 3\n",
    "```\n",
    "The CPU time will increase, but should still be reasonable.\n",
    "\n",
    "You can explore the effects of saturation in the iron by either\n",
    "increasing the coil current (_e.g._, `current = -10000`), using\n",
    "a lower saturated magnetization when calling `MatSatIsoFrm`, or\n",
    "specifying a different material for the iron yoke.\n",
    "The computed values `Mag_max` and  `H_max` give the maximum values\n",
    "in the iron circuit of the magnetization vector, $\\vec{M}$, and the\n",
    "magnetic field vector, $\\vec{H}$, both expressed in Tesla.\n",
    "If saturation occurs somewhere in the circuit, `Mag_max` will approach\n",
    "the saturated magnetization of the material (in this example 2&#8239;T,\n",
    "as defined in `MatSatIsoFrm`), and `H_max` will deviate from 0.\n",
    "\n",
    "You can also explore the effects of modifying details of the magnet\n",
    "geometry—especially the parameters `gap`, `thick`, `width`, and `chamfer`\n",
    "that define the pole. Of course you may need to modify the segmentation\n",
    "parameters accordingly in order to obtain an acceptable precision\n",
    "within a reasonable CPU time.\n",
    "The only risk is that specifying too fine a segmentation will tax\n",
    "the available memory on your system. In the worst case, you will have\n",
    "to restart the Kernel, adjust the segmentation, and then re-execute\n",
    "all sections of this notebook.\n",
    "\n",
    "You may estimate the memory requirement by looking at the size of the\n",
    "interaction matrix.\n",
    "\n",
    "In the following sections, you will see how to plot the field and field\n",
    "integrals at locations of interest."
   ]
  },
  {
   "cell_type": "markdown",
   "metadata": {},
   "source": [
    "## _Plots of the magnetic field and field integrals_"
   ]
  },
  {
   "cell_type": "markdown",
   "metadata": {},
   "source": [
    "Here we show plots of magnetic field in the gap and corresponding\n",
    "field integrals. The field values are obtained by calling `FldLst`\n",
    "\n",
    "Each graph corresponds to the field created by the whole steerer.\n",
    "It is possible to compute separately the contributions from the coil\n",
    "and from the iron. To do so, one simply calls `FldLst` with `coil`\n",
    "or `yoke` as the first argument, instead of `dipole`. It is also\n",
    "possible to compute the contribution from each part of the iron\n",
    "circuit by setting the first argument of `FldLst` to one of `g1`,\n",
    "`g2`, ..., `g6`. For these elements, however, one must account for\n",
    "the fact that the magnet symmetries were applied only to the whole\n",
    "container `yoke`, and not to the individual elements `g1`, `g2`,\n",
    "..., `g6`. As a consequence, one must multiply the contribution\n",
    "from any of those latter elements by a factor of\n",
    "2&#8239;x&#8239;2&#8239;=&#8239;4.\n",
    "\n",
    "Even though the field produced by the whole magnet is the sum of\n",
    "coil field plus 4 times the field from `g1` plus `g2` plus ...\n",
    "plus `g6`, the magnetization of any of the iron elements `g#`\n",
    "depends on the magnetization of all the other elements.\n",
    "Nevertheless, it can be very quite interesting to explore which\n",
    "parts of the magnetized iron circuit contribute most to the field\n",
    "in the gap, as well as to examine the field gradient. "
   ]
  },
  {
   "cell_type": "code",
   "execution_count": 9,
   "metadata": {},
   "outputs": [
    {
     "data": {
      "text/plain": [
       "351"
      ]
     },
     "execution_count": 9,
     "metadata": {},
     "output_type": "execute_result"
    }
   ],
   "source": [
    "dipole"
   ]
  },
  {
   "cell_type": "code",
   "execution_count": 22,
   "metadata": {},
   "outputs": [
    {
     "data": {
      "image/png": "[encoded data removed]",
      "text/plain": [
       "<Figure size 504x309.6 with 1 Axes>"
      ]
     },
     "metadata": {
      "needs_background": "light"
     },
     "output_type": "display_data"
    }
   ],
   "source": [
    "xmax = 30\n",
    "y  = 1\n",
    "z  = 1\n",
    "num_points = 40\n",
    "\n",
    "xv = np.linspace(-xmax, xmax, num_points)\n",
    "bz = radia.FldLst(dipole, 'bz', [-xmax, y, z], [xmax, y, z], num_points,\n",
    "                  \"noarg\", -xmax)\n",
    "\n",
    "plt.figure(figsize=(7,4.3))\n",
    "plt.plot(xv, bz)\n",
    "plt.title(r'$B_z$ / T for $Y = 1\\,\\mathrm{mm}$,  $Z = 1\\,\\mathrm{mm}$')\n",
    "plt.xlabel(r'$X$ / mm')\n",
    "plt.ylabel(r'$B_z$ / T')\n",
    "plt.grid()\n",
    "plt.show()"
   ]
  },
  {
   "cell_type": "code",
   "execution_count": 25,
   "metadata": {},
   "outputs": [
    {
     "data": {
      "image/png": "[encoded data removed]",
      "text/plain": [
       "<Figure size 504x309.6 with 1 Axes>"
      ]
     },
     "metadata": {
      "needs_background": "light"
     },
     "output_type": "display_data"
    },
    {
     "data": {
      "image/png": "[encoded data removed]",
      "text/plain": [
       "<Figure size 504x309.6 with 1 Axes>"
      ]
     },
     "metadata": {
      "needs_background": "light"
     },
     "output_type": "display_data"
    },
    {
     "data": {
      "image/png": "[encoded data removed]",
      "text/plain": [
       "<Figure size 504x309.6 with 1 Axes>"
      ]
     },
     "metadata": {
      "needs_background": "light"
     },
     "output_type": "display_data"
    }
   ],
   "source": [
    "xmax = 30\n",
    "y  = 0\n",
    "z  = 0\n",
    "num_points = 40\n",
    "\n",
    "xv  = np.linspace(-xmax, xmax, num_points)\n",
    "bzy = radia.FldLst(yoke, 'bz', [-xmax, y, z], [xmax, y, z], num_points,\n",
    "                   \"noarg\", -xmax)\n",
    "bzc = radia.FldLst(coil, 'bz', [-xmax, y, z], [xmax, y, z], num_points,\n",
    "                   \"noarg\", -xmax)\n",
    "bg1 = radia.FldLst(g1, 'bz', [-xmax, y, z], [xmax, y, z], num_points,\n",
    "                   \"noarg\", -xmax)\n",
    "\n",
    "plt.figure(figsize=(7,4.3))\n",
    "plt.plot(xv, bg1)\n",
    "plt.title(r'$B_z$ / T for $Y = 1\\,\\mathrm{mm}$,  $Z = 1\\,\\mathrm{mm}$')\n",
    "plt.xlabel(r'$X$ / mm')\n",
    "plt.ylabel(r'$B_z$ / T')\n",
    "plt.grid()\n",
    "plt.show()\n",
    "\n",
    "plt.figure(figsize=(7,4.3))\n",
    "plt.plot(xv, bzy)\n",
    "plt.title(r'$B_z$ / T for $Y = 1\\,\\mathrm{mm}$,  $Z = 1\\,\\mathrm{mm}$')\n",
    "plt.xlabel(r'$X$ / mm')\n",
    "plt.ylabel(r'$B_z$ / T')\n",
    "plt.grid()\n",
    "plt.show()\n",
    "\n",
    "plt.figure(figsize=(7,4.3))\n",
    "plt.plot(xv, bzc)\n",
    "plt.title(r'$B_z$ / T for $Y = 1\\,\\mathrm{mm}$,  $Z = 1\\,\\mathrm{mm}$')\n",
    "plt.xlabel(r'$X$ / mm')\n",
    "plt.ylabel(r'$B_z$ / T')\n",
    "plt.grid()\n",
    "plt.show()"
   ]
  },
  {
   "cell_type": "code",
   "execution_count": null,
   "metadata": {},
   "outputs": [],
   "source": [
    "?radia.FldLst"
   ]
  },
  {
   "cell_type": "markdown",
   "metadata": {},
   "source": [
    "## _Magnetic force_"
   ]
  },
  {
   "cell_type": "markdown",
   "metadata": {},
   "source": [
    "One computes the force over the element g1 induced by the whole structure. One should be cautious that the cpu time to compute the force can be very long and one must set the segmentation parameter k to the lowest values consistent with   sufficient precision . Taking into account the symmetry with respect to the x axis {1,0,0}  would remove the Fx component and double the Fy and Fz components. "
   ]
  },
  {
   "cell_type": "markdown",
   "metadata": {},
   "source": [
    "```\n",
    "k={1,1,2};\n",
    "t1=AbsoluteTime[];\n",
    "fr=radFldEnrFrc[g1,t,\"\",k];\n",
    "t2=AbsoluteTime[];\n",
    "Print[\"{Fx, Fy, Fz} = \",N[fr,3],\" Newton\"];\n",
    "Print [\"cpu time : \",N[t2-t1,3],\" seconds\"];\n",
    "```"
   ]
  },
  {
   "cell_type": "code",
   "execution_count": 38,
   "metadata": {},
   "outputs": [
    {
     "name": "stdout",
     "output_type": "stream",
     "text": [
      "[Fx, Fy, Fz] =  [0.0, 0.0, 0.0]  N\n",
      "cpu time:  -5513.438322544098  s\n"
     ]
    }
   ],
   "source": [
    "k = [1, 1, 2]\n",
    "\n",
    "t0 = tm.time()\n",
    "fx = radia.FldEnrFrc(g1, dipole, 'fx', [1, 1, 2])\n",
    "fy = radia.FldEnrFrc(g1, dipole, 'fy', [1, 1, 2])\n",
    "fz = radia.FldEnrFrc(g1, dipole, 'fz', [1, 1, 2])\n",
    "t2 = tm.time()\n",
    "\n",
    "print(\"[Fx, Fy, Fz] = \", [fx, fy, fz], \" N\")\n",
    "print(\"cpu time: \", t1 - t0,\" s\")"
   ]
  },
  {
   "cell_type": "code",
   "execution_count": null,
   "metadata": {},
   "outputs": [],
   "source": []
  },
  {
   "cell_type": "markdown",
   "metadata": {},
   "source": [
    "## _Comparison of results obtained with rectangular segmentation in the corners_\n",
    "\n",
    "The same model is created but the segmentation in the corner is made with parallelepipedic sub-elements. The precision of the field in the gap is much poorer. It can be improved by using larger values of n3 and n5 such as {nx,4,4} or {nx,6,6},  but the CPU time and memory requirements grow  quickly."
   ]
  },
  {
   "cell_type": "code",
   "execution_count": 39,
   "metadata": {},
   "outputs": [
    {
     "data": {
      "application/vnd.jupyter.widget-view+json": {
       "model_id": "3381fab15263462ebf432669685a21fc",
       "version_major": 2,
       "version_minor": 0
      },
      "text/plain": [
       "RadiaViewer(children=(Viewer(children=(VTK(layout=Layout(margin='auto', min_width='25%', width='50%'), model_d…"
      ]
     },
     "metadata": {},
     "output_type": "display_data"
    }
   ],
   "source": [
    "# build the dipole\n",
    "dipole = create_dipole(gap, thick, width, chamfer, lpp, lap, lharm, cratio, ironmat,\n",
    "                       rmin, rmax, current,\n",
    "                       n1, n2, n3, n4, n5, n6, ncr, nca, nsc,\n",
    "                       circ = False)\n",
    "\n",
    "# define and show the radia viewer\n",
    "rv = radia_viewer.RadiaViewer()\n",
    "rv.add_geometry('using rectangular segmentation for the corners', dipole)\n",
    "rv.display()"
   ]
  },
  {
   "cell_type": "code",
   "execution_count": null,
   "metadata": {},
   "outputs": [],
   "source": []
  }
 ],
 "metadata": {
  "kernelspec": {
   "display_name": "Python 3",
   "language": "python",
   "name": "py3"
  },
  "language_info": {
   "codemirror_mode": {
    "name": "ipython",
    "version": 3
   },
   "file_extension": ".py",
   "mimetype": "text/x-python",
   "name": "python",
   "nbconvert_exporter": "python",
   "pygments_lexer": "ipython3",
   "version": "3.7.2"
  },
  "pycharm": {
   "stem_cell": {
    "cell_type": "raw",
    "metadata": {
     "collapsed": false
    },
    "source": []
   }
  }
 },
 "nbformat": 4,
 "nbformat_minor": 4
}
